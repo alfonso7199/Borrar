{
 "cells": [
  {
   "cell_type": "code",
   "execution_count": null,
   "metadata": {},
   "outputs": [],
   "source": [
    "import pandas as pd\n",
    "# Cargar el dataset\n",
    "df = pd.read_csv('fires_map.csv')\n",
    "# Ver las primeras filas del dataset\n",
    "df.head()"
   ]
  },
  {
   "cell_type": "code",
   "execution_count": null,
   "metadata": {},
   "outputs": [],
   "source": [
    "import folium\n",
    "from folium.plugins import HeatMap\n",
    "# Crear un mapa centrado en el área global\n",
    "m = folium.Map(location=[20,0], zoom_start=2)\n",
    "# Crear el HeatMap usando las coordenadas de latitud y longitud\n",
    "heat_data = [[row['latitude'], row['longitude']] for index, row in df.iterrows()]\n",
    "HeatMap(heat_data).add_to(m)\n",
    "# Mostrar el mapa\n",
    "m"
   ]
  },
  {
   "cell_type": "code",
   "execution_count": null,
   "metadata": {},
   "outputs": [],
   "source": [
    "from folium import Marker\n",
    "from folium.features import CustomIcon\n",
    "# Crear el mapa\n",
    "m = folium.Map(location=[20,0], zoom_start=2)\n",
    "# Agregar un marcador por cada incendio\n",
    "for index, row in df.iterrows():\n",
    "    # Determinar el color del marcador basado en el brillo\n",
    "    if row['brightness'] < 300:\n",
    "        color = 'yellow'\n",
    "    elif row['brightness'] < 400:\n",
    "        color = 'orange'\n",
    "    else:\n",
    "        color = 'red'\n",
    "    # Crear el marcador\n",
    "    folium.Marker(\n",
    "        location=[row['latitude'], row['longitude']],\n",
    "        popup=f'Brightness: {row[\"brightness\"]}',\n",
    "        icon=folium.Icon(color=color, icon='fire')\n",
    "    ).add_to(m)\n",
    "# Mostrar el mapa\n",
    "m"
   ]
  },
  {
   "cell_type": "code",
   "execution_count": null,
   "metadata": {},
   "outputs": [],
   "source": [
    "from folium.plugins import MarkerCluster\n",
    "# Crear el mapa\n",
    "m = folium.Map(location=[20,0], zoom_start=2)\n",
    "# Crear el cluster\n",
    "marker_cluster = MarkerCluster().add_to(m)\n",
    "# Agregar los marcadores al cluster\n",
    "for index, row in df.iterrows():\n",
    "    folium.Marker(\n",
    "        location=[row['latitude'], row['longitude']],\n",
    "        popup=f'Brightness: {row[\"brightness\"]}',\n",
    "        icon=folium.Icon(color='red', icon='fire')\n",
    "    ).add_to(marker_cluster)\n",
    "# Mostrar el mapa\n",
    "m"
   ]
  },
  {
   "cell_type": "code",
   "execution_count": null,
   "metadata": {},
   "outputs": [],
   "source": [
    "# Crear el mapa\n",
    "m = folium.Map(location=[20,0], zoom_start=2)\n",
    "# Crear dos grupos de características: Aqua y Terra\n",
    "aqua_group = folium.FeatureGroup(name=\"Aqua\").add_to(m)\n",
    "terra_group = folium.FeatureGroup(name=\"Terra\").add_to(m)\n",
    "# Agregar los incendios a los grupos correspondientes\n",
    "for index, row in df.iterrows():\n",
    "    color = 'blue' if row['satellite'] == 'Aqua' else 'green'\n",
    "    folium.Marker(\n",
    "        location=[row['latitude'], row['longitude']],\n",
    "        popup=f'Brightness: {row[\"brightness\"]} Satellite: {row[\"satellite\"]}',\n",
    "        icon=folium.Icon(color=color, icon='fire')\n",
    "    ).add_to(aqua_group if row['satellite'] == 'Aqua' else terra_group)\n",
    "# Agregar control de capas\n",
    "folium.LayerControl().add_to(m)\n",
    "m"
   ]
  },
  {
   "cell_type": "code",
   "execution_count": null,
   "metadata": {},
   "outputs": [],
   "source": [
    "# Crear el mapa\n",
    "m = folium.Map(location=[20,0], zoom_start=2)\n",
    "# Crear los grupos de características\n",
    "yellow_group = folium.FeatureGroup(name=\"Yellow\").add_to(m)\n",
    "orange_group = folium.FeatureGroup(name=\"Orange\").add_to(m)\n",
    "red_group = folium.FeatureGroup(name=\"Red\").add_to(m)\n",
    "# Agregar los incendios a los grupos según su brillo\n",
    "for index, row in df.iterrows():\n",
    "    if row['brightness'] < 300:\n",
    "        group = yellow_group\n",
    "    elif row['brightness'] < 400:\n",
    "        group = orange_group\n",
    "    else:\n",
    "        group = red_group\n",
    "    folium.Marker(\n",
    "        location=[row['latitude'], row['longitude']],\n",
    "        popup=f'Brightness: {row[\"brightness\"]}',\n",
    "        icon=folium.Icon(color=group.name.lower(), icon='fire')\n",
    "    ).add_to(group)\n",
    "# Agregar control de capas\n",
    "folium.LayerControl().add_to(m)\n",
    "# Mostrar el mapa\n",
    "m"
   ]
  }
 ],
 "metadata": {
  "kernelspec": {
   "display_name": "Python 3",
   "language": "python",
   "name": "python3"
  },
  "language_info": {
   "codemirror_mode": {
    "name": "ipython",
    "version": 3
   },
   "file_extension": ".py",
   "mimetype": "text/x-python",
   "name": "python",
   "nbconvert_exporter": "python",
   "version": "3.8.5"
  }
 },
 "nbformat": 4,
 "nbformat_minor": 5
}
