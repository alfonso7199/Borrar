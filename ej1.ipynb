import pandas as pd

# Cargar el dataset
df = pd.read_csv('fires_map.csv')

# Ver las primeras filas del dataset
df.head()

import folium
from folium.plugins import HeatMap

# Crear un mapa centrado en el área global
m = folium.Map(location=[20,0], zoom_start=2)

# Crear el HeatMap usando las coordenadas de latitud y longitud
heat_data = [[row['latitude'], row['longitude']] for index, row in df.iterrows()]
HeatMap(heat_data).add_to(m)

# Mostrar el mapa
m

from folium import Marker
from folium.features import CustomIcon

# Crear el mapa
m = folium.Map(location=[20,0], zoom_start=2)

# Agregar un marcador por cada incendio
for index, row in df.iterrows():
    # Determinar el color del marcador basado en el brillo
    if row['brightness'] < 300:
        color = 'yellow'
    elif row['brightness'] < 400:
        color = 'orange'
    else:
        color = 'red'
    
    # Crear el marcador
    folium.Marker(
        location=[row['latitude'], row['longitude']],
        popup=f'Brightness: {row["brightness"]}',
        icon=folium.Icon(color=color, icon='fire')
    ).add_to(m)

# Mostrar el mapa
m
from folium.plugins import MarkerCluster

# Crear el mapa
m = folium.Map(location=[20,0], zoom_start=2)

# Crear el cluster
marker_cluster = MarkerCluster().add_to(m)

# Agregar los marcadores al cluster
for index, row in df.iterrows():
    folium.Marker(
        location=[row['latitude'], row['longitude']],
        popup=f'Brightness: {row["brightness"]}',
        icon=folium.Icon(color='red', icon='fire')
    ).add_to(marker_cluster)

# Mostrar el mapa
m
# Crear el mapa
m = folium.Map(location=[20,0], zoom_start=2)

# Crear dos grupos de características: Aqua y Terra
aqua_group = folium.FeatureGroup(name="Aqua").add_to(m)
terra_group = folium.FeatureGroup(name="Terra").add_to(m)

# Agregar los incendios a los grupos correspondientes
for index, row in df.iterrows():
    color = 'blue' if row['satellite'] == 'Aqua' else 'green'
    folium.Marker(
        location=[row['latitude'], row['longitude']],
        popup=f'Brightness: {row["brightness"]} Satellite: {row["satellite"]}',
        icon=folium.Icon(color=color, icon='fire')
    ).add_to(aqua_group if row['satellite'] == 'Aqua' else terra_group)

# Agregar control de capas
folium.LayerControl().add_to(m)

m

# Crear el mapa
m = folium.Map(location=[20,0], zoom_start=2)

# Crear los grupos de características
yellow_group = folium.FeatureGroup(name="Yellow").add_to(m)
orange_group = folium.FeatureGroup(name="Orange").add_to(m)
red_group = folium.FeatureGroup(name="Red").add_to(m)

# Agregar los incendios a los grupos según su brillo
for index, row in df.iterrows():
    if row['brightness'] < 300:
        group = yellow_group
    elif row['brightness'] < 400:
        group = orange_group
    else:
        group = red_group

    folium.Marker(
        location=[row['latitude'], row['longitude']],
        popup=f'Brightness: {row["brightness"]}',
        icon=folium.Icon(color=group.name.lower(), icon='fire')
    ).add_to(group)

# Agregar control de capas
folium.LayerControl().add_to(m)

# Mostrar el mapa
m
