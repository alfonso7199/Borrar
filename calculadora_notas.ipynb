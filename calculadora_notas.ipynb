{
 "cells": [
  {
   "cell_type": "code",
   "execution_count": null,
   "metadata": {
    "vscode": {
     "languageId": "plaintext"
    }
   },
   "outputs": [],
   "source": [
    "puntuaciones = [85, 92, 78, 88, 95]\n"
   ]
  },
  {
   "cell_type": "code",
   "execution_count": null,
   "metadata": {
    "vscode": {
     "languageId": "plaintext"
    }
   },
   "outputs": [],
   "source": [
    "def calcular_promedio_puntuaciones(puntuaciones):\n",
    "    total = 0\n",
    "    for puntuacion in puntuaciones:\n",
    "        total += puntuacion\n",
    "    promedio = total / len(puntuaciones)\n",
    "    return promedio"
   ]
  },
  {
   "cell_type": "code",
   "execution_count": null,
   "metadata": {
    "vscode": {
     "languageId": "plaintext"
    }
   },
   "outputs": [],
   "source": [
    "def calcular_puntuacion_maxima(puntuaciones):\n",
    "    puntuacion_maxima = puntuaciones[0]  # Suponemos que la primera es la máxima\n",
    "    for puntuacion in puntuaciones:\n",
    "        if puntuacion > puntuacion_maxima:\n",
    "            puntuacion_maxima = puntuacion\n",
    "    return puntuacion_maxima"
   ]
  },
  {
   "cell_type": "code",
   "execution_count": null,
   "metadata": {
    "vscode": {
     "languageId": "plaintext"
    }
   },
   "outputs": [],
   "source": [
    "def calcular_total_puntuaciones(puntuaciones):\n",
    "    total = 0\n",
    "    for puntuacion in puntuaciones:\n",
    "        total += puntuacion\n",
    "    return total"
   ]
  },
  {
   "cell_type": "code",
   "execution_count": null,
   "metadata": {
    "vscode": {
     "languageId": "plaintext"
    }
   },
   "outputs": [],
   "source": [
    "promedio = calcular_promedio_puntuaciones(puntuaciones)\n",
    "puntuacion_maxima = calcular_puntuacion_maxima(puntuaciones)\n",
    "total_puntuaciones = calcular_total_puntuaciones(puntuaciones)\n",
    "\n",
    "# Mostrar los resultados\n",
    "print(f\"Promedio de las puntuaciones: {promedio}\")\n",
    "print(f\"Puntuación máxima: {puntuacion_maxima}\")\n",
    "print(f\"Total de las puntuaciones: {total_puntuaciones}\")"
   ]
  }
 ],
 "metadata": {
  "language_info": {
   "name": "python"
  }
 },
 "nbformat": 4,
 "nbformat_minor": 2
}
